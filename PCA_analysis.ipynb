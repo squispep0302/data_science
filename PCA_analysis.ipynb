{
  "nbformat": 4,
  "nbformat_minor": 0,
  "metadata": {
    "colab": {
      "name": "PCA_analysis.ipynb",
      "provenance": [],
      "collapsed_sections": []
    },
    "kernelspec": {
      "name": "python3",
      "display_name": "Python 3"
    }
  },
  "cells": [
    {
      "cell_type": "code",
      "metadata": {
        "id": "ZPT-Ohl-0NDq",
        "colab_type": "code",
        "colab": {}
      },
      "source": [
        "import pandas as pd\n",
        "import numpy as np\n",
        "import matplotlib.pyplot as plt\n",
        "\n",
        "# DATA\n",
        "Xtrain = np.array([[375,135,458,475],\n",
        "                   [57,47,53,73],\n",
        "                   [245,267,242,227],\n",
        "                   [1472,1494,1462,1582],\n",
        "                   [105,66,103,103],\n",
        "                   [54,41,62,64],\n",
        "                   [193,209,184,235],\n",
        "                   [147,93,122,160],\n",
        "                   [1102,674,957,1137],\n",
        "                   [720,1033,566,874],\n",
        "                   [253,143,171,265],\n",
        "                   [685,586,750,803],\n",
        "                   [488,355,418,570],\n",
        "                   [198,187,220,203],\n",
        "                   [360,334,337,365],\n",
        "                   [1374,1506,1572,1256],\n",
        "                   [156,139,147,175],\n",
        "                   ])\n",
        "\n",
        "# We need DATA with the form elements to characteristics, so we take transpose\n",
        "Xtrain = Xtrain.T\n",
        "\n",
        "# The objective is calculate eigenvalues and eigenvectors for pca\n",
        "# First calculate covariance matrix\n",
        "covX = np.cov(Xtrain.T)\n",
        "# Then calculate eigenvalues and eigenvectors\n",
        "lambdas, Q = np.linalg.eigh(covX)\n",
        "\n",
        "# Order eigenvalues from max to min\n",
        "idx = np.argsort(-lambdas)\n",
        "lambdas = lambdas[idx]\n",
        "lambdas = np.maximum(lambdas, 0)\n",
        "# Ordering corresponding eigenvector for each eigenvalue\n",
        "Q = Q[:,idx]\n",
        "# Calculate all corresponding values for each transformation of coordinates(PCA),\n",
        "Z = Xtrain.dot(Q)"
      ],
      "execution_count": 0,
      "outputs": []
    },
    {
      "cell_type": "code",
      "metadata": {
        "id": "ye_d04H4ZS5i",
        "colab_type": "code",
        "colab": {
          "base_uri": "https://localhost:8080/",
          "height": 284
        },
        "outputId": "02b6623a-5033-4292-cbf4-6bf03b4cae49"
      },
      "source": [
        "# Displaying correlation matrix between the 17 principal components\n",
        "pcs = ['pc01','pc02','pc03','pc04','pc05','pc06','pc07','pc08','pc09','pc10','pc11','pc12','pc13','pc14','pc15','pc16','pc17']\n",
        "df = pd.DataFrame(Z,columns=pcs)\n",
        "corr = df.corr()\n",
        "import seaborn as sns\n",
        "ax = sns.heatmap(\n",
        "    corr, \n",
        "    vmin=-1, vmax=1, center=0,\n",
        "    cmap=sns.diverging_palette(20, 220, n=200),\n",
        "    square=True\n",
        ")\n",
        "ax.set_xticklabels(\n",
        "    ax.get_xticklabels(),\n",
        "    rotation=45,\n",
        "    horizontalalignment='right'\n",
        ");\n",
        "# As we can see pc01 and pc02 have little correlation"
      ],
      "execution_count": 53,
      "outputs": [
        {
          "output_type": "display_data",
          "data": {
            "image/png": "[encoded data removed]",
            "text/plain": [
              "<Figure size 432x288 with 2 Axes>"
            ]
          },
          "metadata": {
            "tags": []
          }
        }
      ]
    },
    {
      "cell_type": "code",
      "metadata": {
        "id": "vVcDJaR6ZVoh",
        "colab_type": "code",
        "colab": {
          "base_uri": "https://localhost:8080/",
          "height": 269
        },
        "outputId": "3d64945c-4add-40e2-9a64-2510a6818e08"
      },
      "source": [
        "# Displaying results with data projected to pc01 and pc02\n",
        "import matplotlib.patches as mpatches\n",
        "colours = ['r','g','b','k']\n",
        "celestial_objects = ['object1','object2','object3','object4']\n",
        "recs=[]\n",
        "for i in range(0,len(colours)):\n",
        "  recs.append(mpatches.Rectangle((0,0),1,1,fc=colours[i]))\n",
        "\n",
        "plt.scatter(Z[:,0],Z[:,1],s=100,c=colours,alpha=0.3) # so we just take first two coordinates(PC1,PC2)\n",
        "plt.legend(recs,celestial_objects,loc=4)\n",
        "plt.show()\n",
        "# We can observe that green circle equals to object2 is too diferent from the others,\n",
        "# so object2 does not behave like a star"
      ],
      "execution_count": 55,
      "outputs": [
        {
          "output_type": "display_data",
          "data": {
            "image/png": "[encoded data removed]",
            "text/plain": [
              "<Figure size 432x288 with 1 Axes>"
            ]
          },
          "metadata": {
            "tags": []
          }
        }
      ]
    },
    {
      "cell_type": "code",
      "metadata": {
        "id": "Jg6NDj8zZXoB",
        "colab_type": "code",
        "colab": {}
      },
      "source": [
        ""
      ],
      "execution_count": 0,
      "outputs": []
    }
  ]
}